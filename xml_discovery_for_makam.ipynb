{
 "cells": [
  {
   "cell_type": "code",
   "execution_count": 1,
   "metadata": {},
   "outputs": [],
   "source": [
    "import os\n",
    "import xml.etree.ElementTree as ET"
   ]
  },
  {
   "cell_type": "code",
   "execution_count": 8,
   "metadata": {},
   "outputs": [],
   "source": [
    "# Adapted from https://github.com/burakuyar/Tools/blob/master/musicxml_player.py\n",
    "def get_bpm(root):\n",
    "    return float(root.find('part/measure/direction/sound').attrib['tempo'])\n",
    "\n",
    "def get_divisions(root):\n",
    "    return float(root.find('part/measure/attributes/divisions').text)\n",
    "\n",
    "def find_key_signature_accidentals(root):\n",
    "    notes = []\n",
    "    accidentals = []\n",
    "    for k in root.iter('key'):\n",
    "        for ks in k.findall('key-step'):\n",
    "            notes.append(ks.text)\n",
    "        for ka in k.findall('key-accidental'):\n",
    "            accidentals.append(ka.text)\n",
    "    return ['{} {}'.format(n,k) for n,k in zip(notes,accidentals)]\n",
    "        \n",
    "#qnotelen = 60000/bpm"
   ]
  },
  {
   "cell_type": "markdown",
   "metadata": {},
   "source": [
    "# 1) Read an XML file"
   ]
  },
  {
   "cell_type": "code",
   "execution_count": 6,
   "metadata": {},
   "outputs": [],
   "source": [
    "score_name='hicaz--sarki--aksaksemai--sezdim_dargin--rifat_ayaydin.xml'\n",
    "\n",
    "data_dir=os.path.join(os.getcwd(), 'data')\n",
    "score_path=os.path.join(data_dir, score_name)\n",
    "\n",
    "tree=ET.parse(score_path)\n",
    "root=tree.getroot()"
   ]
  },
  {
   "cell_type": "code",
   "execution_count": 11,
   "metadata": {},
   "outputs": [
    {
     "name": "stdout",
     "output_type": "stream",
     "text": [
      "BPM: 65.0\n",
      "Divitions: 96.0\n",
      "Accidentals in the key signature: ['B slash-flat', 'F sharp', 'C sharp']\n"
     ]
    }
   ],
   "source": [
    "bpm=get_bpm(root)\n",
    "print(f'BPM: {bpm}')\n",
    "divs=get_divisions(root)\n",
    "print('Divitions: {}'.format(divs))\n",
    "key_signature_accidentals=find_key_signature_accidentals(root)\n",
    "print('Accidentals in the key signature: {}'.format(key_signature_accidentals))"
   ]
  },
  {
   "cell_type": "code",
   "execution_count": null,
   "metadata": {},
   "outputs": [],
   "source": [
    "root.tag"
   ]
  },
  {
   "cell_type": "code",
   "execution_count": null,
   "metadata": {},
   "outputs": [],
   "source": [
    "root.attrib"
   ]
  },
  {
   "cell_type": "code",
   "execution_count": null,
   "metadata": {},
   "outputs": [],
   "source": [
    "root.attrib['version']"
   ]
  },
  {
   "cell_type": "code",
   "execution_count": null,
   "metadata": {},
   "outputs": [],
   "source": []
  },
  {
   "cell_type": "code",
   "execution_count": null,
   "metadata": {},
   "outputs": [],
   "source": [
    "for child in root:\n",
    "    print(child.tag, child.attrib)\n",
    "    if child.tag=='part':\n",
    "        part=child\n",
    "        print(part)\n",
    "        break"
   ]
  },
  {
   "cell_type": "code",
   "execution_count": null,
   "metadata": {},
   "outputs": [],
   "source": [
    "part.keys()"
   ]
  },
  {
   "cell_type": "code",
   "execution_count": null,
   "metadata": {},
   "outputs": [],
   "source": [
    "for measure in part:\n",
    "    print(measure)"
   ]
  },
  {
   "cell_type": "code",
   "execution_count": null,
   "metadata": {},
   "outputs": [],
   "source": [
    "measure = part[0]"
   ]
  },
  {
   "cell_type": "code",
   "execution_count": null,
   "metadata": {},
   "outputs": [],
   "source": [
    "print(*measure[0])\n",
    "print(*measure[1])\n",
    "print(*measure[2])\n",
    "print(*measure[3])\n",
    "print(*measure[4])"
   ]
  },
  {
   "cell_type": "code",
   "execution_count": null,
   "metadata": {},
   "outputs": [],
   "source": [
    "for i, x in enumerate(measure):\n",
    "    print(i,x)\n",
    "    print()\n",
    "    for y in x:\n",
    "        print(y)\n",
    "        for z in y:\n",
    "            print(z)\n",
    "            print()\n",
    "    print()\n",
    "    #print(x.keys()) # works but not usefull\n",
    "    #print(x.text)   # same"
   ]
  },
  {
   "cell_type": "code",
   "execution_count": null,
   "metadata": {},
   "outputs": [],
   "source": [
    "note_tags=[]\n",
    "pitch_tags=[]\n",
    "for i,m in enumerate(root.iter('measure')):  # find all the measures in the tree\n",
    "    #print(f'Measure {i}\\n')\n",
    "    for x in m:                              # iterate over all child objects\n",
    "        if x.tag=='note':                    # find note objects\n",
    "            for y in x:\n",
    "                note_tags.append(y.tag)\n",
    "\n",
    "note_tags=set(note_tags)\n",
    "print(note_tags)\n",
    "\n",
    "pitch_tags=set(pitch_tags)\n",
    "print(pitch_tags)"
   ]
  },
  {
   "cell_type": "code",
   "execution_count": null,
   "metadata": {},
   "outputs": [],
   "source": [
    "for n in root.iter('note'): # find all the note objects in the tree\n",
    "    for x in n:\n",
    "        print(x.tag)\n",
    "    break"
   ]
  },
  {
   "cell_type": "code",
   "execution_count": null,
   "metadata": {},
   "outputs": [],
   "source": [
    "# Access accidental names as follows\n",
    "accidentals=[]\n",
    "for a in root.iter('accidental'):\n",
    "    #print(a.text)\n",
    "    accidentals.append(a.text)\n",
    "accidentals=set(accidentals)\n",
    "print(accidentals)"
   ]
  }
 ],
 "metadata": {
  "kernelspec": {
   "display_name": "Python 3",
   "language": "python",
   "name": "python3"
  },
  "language_info": {
   "codemirror_mode": {
    "name": "ipython",
    "version": 3
   },
   "file_extension": ".py",
   "mimetype": "text/x-python",
   "name": "python",
   "nbconvert_exporter": "python",
   "pygments_lexer": "ipython3",
   "version": "3.8.8"
  }
 },
 "nbformat": 4,
 "nbformat_minor": 2
}
