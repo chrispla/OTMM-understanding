{
 "cells": [
  {
   "cell_type": "markdown",
   "metadata": {},
   "source": [
    "**TODO**\n",
    "\n",
    "<ol>\n",
    "<li><strike>Check if Note number conversion is correct</strike></li>\n",
    "<li><strike>Create a tonic dict for existing makamlar</strike></li>\n",
    "<li>Relation between measures are indicated how? (Extensions, glissando, my vocab is poor here)</li>\n",
    "<li>Deal with Multi-part scores. Probably not possible in makam music</li>\n",
    "</ol>\n",
    "\n",
    "**STATISTICS**\n",
    "\n",
    "<ol>\n",
    "<li><strike>Note histogram (octave folded, just 53-TET pitch class)</strike></li>\n",
    "<li>Melodic line plot</li>\n",
    "<li>Return to tonic durations (how many notes did it take to return to tonic)</li>\n",
    "<li>Return to tonic pitch ranges (what pitch range did the return to tonic cover)</li>\n",
    "<li>General note range</li>\n",
    "<li>Histogram of note durations</li>\n",
    "<li>Histogram of position of tonic in measure</li>\n",
    "<li>Interval histogram</li>\n",
    "\n",
    "**Discoveries**\n",
    "   - Alter<br>\n",
    "\"-1, -4, -5, -8, +1, +4, +5, +8\" Comma alterations of the accidentals in the 53 Comma Scale.\n",
    "   - \"divisions\" attribute<br>\n",
    "https://github.com/burakuyar/MusicXMLConverter/blob/master/musicxmlconverter/symbtr2musicxml.py\n",
    "                measure_len = (temp_num_beats * num_divs *\n",
    "                           4 / float(temp_beat_type))\n",
    "\n",
    "**Questions**              \n",
    "\n",
    "- RESEARCH QUESTION: What are other components of Turkish makam music that define the makam?\n",
    "\n",
    "- Can makam music have time signature change?\n",
    "- Is makam music actually strictly following the theoretical tonic for a specific makam?\n",
    "\n",
    "\n",
    "\n",
    "```Measure\n",
    "    0: attributes ( even if no note is present) \n",
    "        sometimes empty, o.w.\n",
    "        'divisions'\n",
    "        'key'\n",
    "        'time'\n",
    "    1,.. notes ```"
   ]
  },
  {
   "cell_type": "markdown",
   "metadata": {},
   "source": [
    "![alt text](fig1.png \"Title\")"
   ]
  },
  {
   "cell_type": "code",
   "execution_count": 1,
   "metadata": {},
   "outputs": [],
   "source": [
    "PITCH_CLASS = {\n",
    "        'C':0,\n",
    "        'D':9,\n",
    "        'E':18,\n",
    "        'F':22,\n",
    "        'G':31,\n",
    "        'A':40,\n",
    "        'B':44\n",
    "}\n",
    "\n",
    "# sharps ???????\n",
    "ACCIDENTALS = {\n",
    "        'quarter-flat':-1,\n",
    "        'slash-flat':-4,\n",
    "        'flat':-5,\n",
    "        'double-slash-flat':-8,\n",
    "        'natural': 0,\n",
    "        'quarter-sharp':+1,\n",
    "        'sharp':+4,\n",
    "        'slash-quarter-sharp':+5,  \n",
    "        'slash-sharp':+8\n",
    "}\n",
    "\n",
    "# a tonic reference https://www.researchgate.net/figure/Twenty-four-makams-that-appear-in-this-paper-are-represented-in-the-AEU-system-Special_fig2_276132262\n",
    "# for those not in the paper, cross-referenced from recordings and other sources e.g. http://muzik.name/\n",
    "TONICS = {\n",
    "        'Uşşak': PITCH_CLASS['G'],\n",
    "        'Nihâvent': PITCH_CLASS['G'],\n",
    "        'Kürdîlihicazkâr': PITCH_CLASS['D'],\n",
    "        'Sabâ': PITCH_CLASS['D'],\n",
    "        'Rast': PITCH_CLASS['C'],\n",
    "        'Mâhur': PITCH_CLASS['G'],\n",
    "        'Segâh': PITCH_CLASS['A'] + ACCIDENTALS['sharp'],\n",
    "        'Hicaz': PITCH_CLASS['G'],\n",
    "        'Hüseynî': PITCH_CLASS['G'],\n",
    "        'Bûselik': PITCH_CLASS['G'] + ACCIDENTALS['sharp'],\n",
    "        'Muhayyer': PITCH_CLASS['G'],\n",
    "        'Hüzzam': PITCH_CLASS['A'],\n",
    "        'Hicazkâr': PITCH_CLASS['F'] + ACCIDENTALS['sharp'],\n",
    "        'Beyâtî': PITCH_CLASS['G'],\n",
    "        'Karcığar': PITCH_CLASS['A'],\n",
    "        'Acemaşîrân': PITCH_CLASS['F']\n",
    "}"
   ]
  },
  {
   "cell_type": "code",
   "execution_count": 59,
   "metadata": {},
   "outputs": [],
   "source": [
    "# Code modified from https://github.com/burakuyar/Tools/blob/master/musicxml_player.py\n",
    "# Data from https://github.com/sertansenturk/SymbTr\n",
    "\n",
    "import os\n",
    "import glob\n",
    "from collections import defaultdict\n",
    "\n",
    "import numpy as np\n",
    "\n",
    "import xml.etree.ElementTree as ET\n",
    "\n",
    "import matplotlib.pyplot as plt\n",
    "\n",
    "# DATA_DIR=os.path.join(os.getcwd(), 'data')\n",
    "DATA_DIR = '/home/chris/Documents/makam_MusicXML'"
   ]
  },
  {
   "cell_type": "code",
   "execution_count": 3,
   "metadata": {},
   "outputs": [],
   "source": [
    "def read_score(score_path):\n",
    "    tree=ET.parse(score_path)\n",
    "    root=tree.getroot()\n",
    "    return root\n",
    "\n",
    "def get_composer_info(root):\n",
    "    composition_name=root.find('work/work-title').text\n",
    "    composer_name=root.find('identification/creator').text\n",
    "    return composition_name,composer_name \n",
    "\n",
    "def get_makam_form_usul(root):\n",
    "    makam_form_usul=root.find('part/measure/direction/direction-type/words').text.split(', ')\n",
    "    makam=makam_form_usul[0].split(': ')[-1]\n",
    "    form=makam_form_usul[1].split(': ')[-1]\n",
    "    usul=makam_form_usul[2].split(': ')[-1][:-1]\n",
    "    return makam, form, usul\n",
    "\n",
    "def note_to_number(p,o,a):\n",
    "    \"\"\"Convert NoteAEU to AEU53 Comma numbering. \"\"\"\n",
    "    if p!='Rest':\n",
    "        return 53*(int(o)+1) + PITCH_CLASS[p] + ACCIDENTALS[a]\n",
    "    else:\n",
    "        return -1\n",
    "\n",
    "def parse_notes(root, record_embellishment=True):\n",
    "    \"\"\"\n",
    "    Returns a 2D array of [[measure_idx,note_idx,note_duration,note_number, *note_name]]\n",
    "    Note name can only be \"PitchClass Octave\", \"PitchClass Octave Accidental\" or \"Rest\"\n",
    "    If a note_name is not Rest and it has zero duration, that note is an embellishment.\n",
    "    \"\"\"\n",
    "    notes=[]\n",
    "    for m_idx,measure in enumerate(root.findall('part/measure')):   \n",
    "        if len(measure.findall('note'))>0: # Check if the measure contains at least one note\n",
    "            grace_count=0 # Count grace notes in case you don't want to record them\n",
    "            for n_idx,note in enumerate(measure.findall('note')):\n",
    "                dur=note.find('duration')\n",
    "                if dur is None:\n",
    "                    if not record_embellishment:\n",
    "                        grace_count+=1\n",
    "                        continue # skip the grace note\n",
    "                    else:\n",
    "                        dur='0' # Embellishment/Grace Note\n",
    "                else:\n",
    "                    dur=dur.text\n",
    "                step=note.find('pitch/step')\n",
    "                if step is not None:\n",
    "                    step=step.text\n",
    "                    octave=note.find('pitch/octave').text\n",
    "                    acc = note.find('accidental')\n",
    "                    if acc is None:\n",
    "                        n=[step,octave,'natural']\n",
    "                    else:\n",
    "                        n=[step,octave,acc.text]\n",
    "                else:\n",
    "                    rest = note.find('rest')\n",
    "                    assert rest is not None, \"The note doesn't have a pitch and is not a rest!\"\n",
    "                    n=['Rest','','']\n",
    "                note_number=note_to_number(*n)\n",
    "                note = [m_idx, n_idx-grace_count, dur, note_number, *n]\n",
    "                notes.append(note)\n",
    "    return np.array(notes)\n",
    "\n",
    "def get_time_signatures(root):\n",
    "    \"\"\"Returns all time signatures in the score as a list of tupples.\n",
    "    Assumes it is possible to have time change in makam pieces.\"\"\"\n",
    "    beats = [t.text for t in root.findall('part/measure/attributes/time/beats')]\n",
    "    types = [t.text for t in root.findall('part/measure/attributes/time/beat-type')]\n",
    "    all_time_signatures=[(int(b),int(t)) for b,t in zip(beats,types)]\n",
    "    return all_time_signatures\n",
    "\n",
    "def get_bpm(root):\n",
    "    return float(root.find('part/measure/direction/sound').attrib['tempo'])\n",
    "\n",
    "def get_divisions(root):\n",
    "    return float(root.find('part/measure/attributes/divisions').text)\n",
    "\n",
    "def find_key_signature_accidentals(root):\n",
    "    notes, accidentals = [], []\n",
    "    for k in root.iter('key'):\n",
    "        for ks in k.findall('key-step'):\n",
    "            notes.append(ks.text)\n",
    "        for ka in k.findall('key-accidental'):\n",
    "            accidentals.append(ka.text)\n",
    "    return ['{} {}'.format(n,k) for n,k in zip(notes,accidentals)]\n",
    "\n",
    "def find_all_accidentals(root):\n",
    "    return set([a.text for a in root.iter('accidental')])\n",
    "\n",
    "def get_measure_change_indices(composition):\n",
    "    \"\"\"Returns the indices of notes in the composition where the next measure begins.\"\"\"\n",
    "    measure_indices=composition['notes'][:,0].astype(int)\n",
    "    measure_changes=np.insert(np.where(np.diff(measure_indices, prepend=0))[0],0,0)\n",
    "    return measure_changes"
   ]
  },
  {
   "cell_type": "markdown",
   "metadata": {},
   "source": [
    "# -> Find all xml files in the DATA_DIR"
   ]
  },
  {
   "cell_type": "code",
   "execution_count": 4,
   "metadata": {},
   "outputs": [
    {
     "name": "stdout",
     "output_type": "stream",
     "text": [
      "There are 2200 scores in the directory.\n"
     ]
    }
   ],
   "source": [
    "score_paths = glob.glob(DATA_DIR+'/*.xml')\n",
    "print(f'There are {len(score_paths)} scores in the directory.')"
   ]
  },
  {
   "cell_type": "markdown",
   "metadata": {},
   "source": [
    "# -> Process"
   ]
  },
  {
   "cell_type": "markdown",
   "metadata": {},
   "source": [
    "### --> Process 1 XML File"
   ]
  },
  {
   "cell_type": "code",
   "execution_count": 5,
   "metadata": {},
   "outputs": [],
   "source": [
    "# Read one xml file to a tree structure\n",
    "score_path=score_paths[0]\n",
    "root=read_score(score_path)"
   ]
  },
  {
   "cell_type": "code",
   "execution_count": 6,
   "metadata": {},
   "outputs": [
    {
     "name": "stdout",
     "output_type": "stream",
     "text": [
      "Composition: Uşşak Seyir\n",
      "Composer: Rauf Yektâ\n",
      "Makam: Uşşak\n",
      "Form: Seyir\n",
      "Usul: Semâî\n",
      "Time Signature(s): [(3, 4)]\n",
      "BPM: 120.0\n",
      "Divisions: 96.0\n",
      "Accidental(s) in the key signature: ['B quarter-flat']\n"
     ]
    }
   ],
   "source": [
    "# Get necessary information\n",
    "composition_name,composer_name =get_composer_info(root)\n",
    "print(f'Composition: {composition_name}')\n",
    "print(f'Composer: {composer_name}')\n",
    "makam,form,usul=get_makam_form_usul(root)\n",
    "print(f'Makam: {makam}')\n",
    "print(f'Form: {form}')\n",
    "print(f'Usul: {usul}')\n",
    "time_signatures=get_time_signatures(root)\n",
    "print(f'Time Signature(s): {time_signatures}')\n",
    "bpm=get_bpm(root)\n",
    "print(f'BPM: {bpm}')\n",
    "divs=get_divisions(root)\n",
    "print(f'Divisions: {divs}')\n",
    "key_signature_accidentals=find_key_signature_accidentals(root)\n",
    "print(f'Accidental(s) in the key signature: {key_signature_accidentals}')\n",
    "notes=parse_notes(root, record_embellishment=False)"
   ]
  },
  {
   "cell_type": "code",
   "execution_count": 7,
   "metadata": {
    "collapsed": true,
    "jupyter": {
     "outputs_hidden": true
    }
   },
   "outputs": [
    {
     "name": "stdout",
     "output_type": "stream",
     "text": [
      "Meas Pos Dur  Num   STE Oct  Acc\n",
      "================================\n",
      "['0' '0' '192' '296' 'G' '4' 'natural']\n",
      "['0' '1' '96' '305' 'A' '4' 'natural']\n",
      "['1' '0' '192' '305' 'A' '4' 'natural']\n",
      "['1' '1' '96' '305' 'A' '4' 'natural']\n",
      "['2' '0' '192' '305' 'A' '4' 'natural']\n",
      "['2' '1' '96' '308' 'B' '4' 'quarter-flat']\n",
      "['3' '0' '192' '296' 'G' '4' 'natural']\n",
      "['3' '1' '96' '-1' 'Rest' '' '']\n",
      "['4' '0' '192' '305' 'A' '4' 'natural']\n",
      "['4' '1' '96' '308' 'B' '4' 'quarter-flat']\n",
      "['5' '0' '96' '327' 'D' '5' 'natural']\n",
      "['5' '1' '96' '318' 'C' '5' 'natural']\n",
      "['5' '2' '96' '308' 'B' '4' 'quarter-flat']\n",
      "['6' '0' '192' '308' 'B' '4' 'quarter-flat']\n",
      "['6' '1' '96' '305' 'A' '4' 'natural']\n",
      "['7' '0' '96' '296' 'G' '4' 'natural']\n",
      "['7' '1' '192' '291' 'F' '4' 'sharp']\n",
      "['8' '0' '192' '296' 'G' '4' 'natural']\n",
      "['8' '1' '96' '305' 'A' '4' 'natural']\n",
      "['9' '0' '192' '305' 'A' '4' 'natural']\n",
      "['9' '1' '96' '305' 'A' '4' 'natural']\n",
      "['10' '0' '192' '305' 'A' '4' 'natural']\n",
      "['10' '1' '96' '308' 'B' '4' 'quarter-flat']\n",
      "['11' '0' '192' '296' 'G' '4' 'natural']\n",
      "['11' '1' '96' '-1' 'Rest' '' '']\n",
      "['12' '0' '192' '305' 'A' '4' 'natural']\n",
      "['12' '1' '96' '308' 'B' '4' 'quarter-flat']\n",
      "['13' '0' '96' '327' 'D' '5' 'natural']\n",
      "['13' '1' '96' '318' 'C' '5' 'natural']\n",
      "['13' '2' '96' '308' 'B' '4' 'quarter-flat']\n",
      "['14' '0' '96' '308' 'B' '4' 'quarter-flat']\n",
      "['14' '1' '96' '305' 'A' '4' 'natural']\n",
      "['14' '2' '96' '296' 'G' '4' 'natural']\n",
      "['15' '0' '192' '305' 'A' '4' 'natural']\n",
      "['15' '1' '96' '-1' 'Rest' '' '']\n",
      "['16' '0' '192' '305' 'A' '4' 'natural']\n",
      "['16' '1' '96' '308' 'B' '4' 'quarter-flat']\n",
      "['17' '0' '96' '318' 'C' '5' 'natural']\n",
      "['17' '1' '96' '308' 'B' '4' 'quarter-flat']\n",
      "['17' '2' '96' '305' 'A' '4' 'natural']\n",
      "['18' '0' '192' '296' 'G' '4' 'natural']\n",
      "['18' '1' '96' '291' 'F' '4' 'sharp']\n",
      "['19' '0' '192' '283' 'E' '4' 'natural']\n",
      "['19' '1' '96' '274' 'D' '4' 'natural']\n",
      "['20' '0' '192' '291' 'F' '4' 'sharp']\n",
      "['20' '1' '96' '296' 'G' '4' 'natural']\n",
      "['21' '0' '192' '305' 'A' '4' 'natural']\n",
      "['21' '1' '96' '308' 'B' '4' 'quarter-flat']\n",
      "['22' '0' '192' '296' 'G' '4' 'natural']\n",
      "['22' '1' '96' '305' 'A' '4' 'natural']\n",
      "['23' '0' '192' '305' 'A' '4' 'natural']\n",
      "['23' '1' '96' '-1' 'Rest' '' '']\n",
      "['24' '0' '192' '305' 'A' '4' 'natural']\n",
      "['24' '1' '96' '327' 'D' '5' 'natural']\n",
      "['25' '0' '96' '318' 'C' '5' 'natural']\n",
      "['25' '1' '192' '327' 'D' '5' 'natural']\n",
      "['26' '0' '192' '336' 'E' '5' 'natural']\n",
      "['26' '1' '96' '340' 'F' '5' 'natural']\n",
      "['27' '0' '192' '327' 'D' '5' 'natural']\n",
      "['27' '1' '96' '-1' 'Rest' '' '']\n",
      "['28' '0' '96' '358' 'A' '5' 'natural']\n",
      "['28' '1' '96' '349' 'G' '5' 'natural']\n",
      "['28' '2' '96' '340' 'F' '5' 'natural']\n",
      "['29' '0' '96' '336' 'E' '5' 'natural']\n",
      "['29' '1' '192' '327' 'D' '5' 'natural']\n",
      "['30' '0' '192' '318' 'C' '5' 'natural']\n",
      "['30' '1' '96' '308' 'B' '4' 'quarter-flat']\n",
      "['31' '0' '192' '305' 'A' '4' 'natural']\n",
      "['31' '1' '96' '-1' 'Rest' '' '']\n",
      "['32' '0' '96' '296' 'G' '4' 'natural']\n",
      "['32' '1' '96' '305' 'A' '4' 'natural']\n",
      "['32' '2' '96' '308' 'B' '4' 'quarter-flat']\n",
      "['33' '0' '96' '318' 'C' '5' 'natural']\n",
      "['33' '1' '96' '327' 'D' '5' 'natural']\n",
      "['33' '2' '96' '336' 'E' '5' 'natural']\n",
      "['34' '0' '96' '340' 'F' '5' 'natural']\n",
      "['34' '1' '96' '336' 'E' '5' 'natural']\n",
      "['34' '2' '96' '327' 'D' '5' 'natural']\n",
      "['35' '0' '96' '318' 'C' '5' 'natural']\n",
      "['35' '1' '96' '308' 'B' '4' 'quarter-flat']\n",
      "['35' '2' '96' '305' 'A' '4' 'natural']\n",
      "['36' '0' '192' '296' 'G' '4' 'natural']\n",
      "['36' '1' '96' '336' 'E' '5' 'natural']\n",
      "['37' '0' '192' '327' 'D' '5' 'natural']\n",
      "['37' '1' '96' '318' 'C' '5' 'natural']\n",
      "['38' '0' '96' '308' 'B' '4' 'quarter-flat']\n",
      "['38' '1' '96' '305' 'A' '4' 'natural']\n",
      "['38' '2' '96' '296' 'G' '4' 'natural']\n",
      "['39' '0' '192' '305' 'A' '4' 'natural']\n",
      "['39' '1' '96' '-1' 'Rest' '' '']\n"
     ]
    }
   ],
   "source": [
    "print('Meas Pos Dur  Num   STE Oct  Acc')\n",
    "print('='*len('Meas Pos Dur  Num   STE Oct  Acc'))\n",
    "for n in notes:\n",
    "    print(n)   "
   ]
  },
  {
   "cell_type": "markdown",
   "metadata": {},
   "source": [
    "### --> Process All XML Files"
   ]
  },
  {
   "cell_type": "code",
   "execution_count": 8,
   "metadata": {},
   "outputs": [],
   "source": [
    "# Create a dictionary containing all the necessary information.\n",
    "dataset=defaultdict(list)\n",
    "for score_path in score_paths:\n",
    "    root=read_score(score_path)\n",
    "    makam,form,usul=get_makam_form_usul(root)\n",
    "    composition_name,composer_name =get_composer_info(root)\n",
    "    score_dict={'composition': composition_name,\n",
    "                'composer': composer_name,\n",
    "                'form': form,\n",
    "                'usul': usul,\n",
    "                'time_signatures': get_time_signatures(root),\n",
    "                'bpm': get_bpm(root),\n",
    "                'divs': get_divisions(root),\n",
    "                'key_sigsnature_accidentals': find_key_signature_accidentals(root),\n",
    "                'notes': parse_notes(root, record_embellishment=False)\n",
    "                }\n",
    "    dataset[makam].append(score_dict)\n",
    "#print(list(dataset.keys()))    "
   ]
  },
  {
   "cell_type": "code",
   "execution_count": 9,
   "metadata": {
    "collapsed": true,
    "jupyter": {
     "outputs_hidden": true
    }
   },
   "outputs": [
    {
     "name": "stdout",
     "output_type": "stream",
     "text": [
      "Number of scores for each makam:\n",
      "Uşşak: 118\n",
      "Nihâvent: 130\n",
      "Kürdîlihicazkâr: 70\n",
      "Eviç: 34\n",
      "Sabâ: 66\n",
      "Acemkürdî: 37\n",
      "Rast: 109\n",
      "Mâhur: 88\n",
      "Kürdî: 14\n",
      "Segâh: 92\n",
      "Nühüft: 3\n",
      "Hicaz: 157\n",
      "Hicaz-Hümâyûn: 38\n",
      "Şevk'efzâ: 11\n",
      "Hüseynî: 92\n",
      "Bûselik: 57\n",
      "Nişâburek: 26\n",
      "Muhayyer: 67\n",
      "Hüzzam: 96\n",
      "Nevâ: 21\n",
      "Arazbâr: 4\n",
      "Hicazkâr: 79\n",
      "Hüzzam-ı-Cedîd: 1\n",
      "Rehâvî: 6\n",
      "Beyâtî: 62\n",
      "Beyâtî-Arabân: 7\n",
      "Şehnâzbûselik: 8\n",
      "Sultânîyegâh: 22\n",
      "Karcığar: 53\n",
      "Ferahfezâ: 17\n",
      "Segâh-Mâye: 4\n",
      "Çargâh(Yeni): 7\n",
      "Sûzinâk-Zirgüle: 26\n",
      "Acemaşîrân: 63\n",
      "Sultan-ı-Irak: 1\n",
      "Şehnâz: 25\n",
      "Bestenigâr: 13\n",
      "Gerdâniye: 26\n",
      "Sipihr: 1\n",
      "Peyk-i-Neşat: 1\n",
      "Acemtarab: 1\n",
      "Hisarbûselik: 20\n",
      "Nev'eser: 8\n",
      "Şevk-ı-Cedîd: 1\n",
      "Sûzidilârâ: 7\n",
      "Isfahân: 20\n",
      "Şedarabân: 15\n",
      "Muhayyerkürdî: 32\n",
      "Sûzinâk: 19\n",
      "Beste-Isfahan: 3\n",
      "Rûy-i-Irâk: 2\n",
      "Tâhir: 31\n",
      "Sûzidil: 19\n",
      "Acem: 7\n",
      "Vech-i-Arazbâr: 1\n",
      "Yegâh: 22\n",
      "Pençgâh-ı-Asl: 1\n",
      "Evcârâ: 9\n",
      "Nikrîz: 25\n",
      "Aşkefzâ: 3\n",
      "Gülizâr: 7\n",
      "Tâhirbûselik: 3\n",
      "Pesendîde: 4\n",
      "Dilkeşhâveran: 4\n",
      "Müstear: 6\n",
      "Şevkutarab: 3\n",
      "Muhayyerbûselik: 1\n",
      "Tarz-ı-Nevîn: 2\n",
      "Zâvil: 9\n",
      "Gonca-i-Rânâ: 1\n",
      "Hüseynîgülizâr: 1\n",
      "Hicaz-Uzzâl: 12\n",
      "Sabâ-Zemzeme: 3\n",
      "Muhayyersünbüle: 2\n",
      "Nigâr: 1\n",
      "Gülşen-i-Vefâ: 1\n",
      "Sabâbûselik: 1\n",
      "Nişâbureyn: 1\n",
      "Nişâbur: 4\n",
      "Hûzî: 2\n",
      "Müberka: 1\n",
      "Nevâbûselik: 2\n",
      "Şevkâver: 2\n",
      "Dügâh: 7\n",
      "Ferahnâk: 12\n",
      "Beyâtî-Arabânbûselik: 1\n",
      "Arazbârbûselik: 2\n",
      "Hüseynîaşîrân: 5\n",
      "Sazkâr: 3\n",
      "Şevk-ı-Dil: 2\n",
      "Hicaz-Zirgüle: 7\n",
      "Rahatülervah: 2\n",
      "Büzürk: 2\n",
      "Hicazkâr-Kürdî: 1\n",
      "Rengidil: 1\n",
      "Dilnişîn: 1\n",
      "Irak: 5\n",
      "Canfezâ: 2\n",
      "Hisar: 5\n",
      "Mâverâünnehr: 1\n",
      "Şîvenümâ: 1\n",
      "Arabân: 1\n",
      "Hicazaşîrân: 3\n",
      "Kürdî-Gerdâniye: 1\n",
      "Acembûselik: 2\n",
      "Ferahnümâ: 4\n",
      "Eviçbûselik: 1\n",
      "Kûçek: 1\n",
      "Ferahnâkaşîrân: 1\n",
      "Rast-Mâye: 1\n",
      "Zîrefkend: 2\n",
      "Bûselikaşîrân: 2\n",
      "Mâhurbûselik: 1\n",
      "Eski-Sipihr: 1\n",
      "Tarz-ı-Cedîd: 1\n",
      "Bahr-i-Nâzik: 1\n",
      "Dilküşâ: 1\n",
      "Gülzâr: 2\n",
      "Beyâtîbûselik: 1\n",
      "Nihâvend-i-Kebîr: 2\n",
      "Dügâh-Mâye: 1\n",
      "Selmek: 1\n",
      "Pençgâh: 3\n",
      "Hicaz-Zemzeme: 1\n",
      "Rast-ı-Cedîd: 1\n",
      "Nihâvend-i-Rûmî: 1\n",
      "Nevrûz: 1\n",
      "Gerdâniyebûselik: 1\n",
      "Hicâzî-Uşşak: 1\n",
      "Reyyâ: 1\n",
      "Bend-i-Hisar: 1\n",
      "Dilkeşîde: 1\n",
      "Vecd-i-Dil: 1\n",
      "Eviç-Hûzî: 1\n",
      "Geveşt: 1\n",
      "Hicazbûselik: 1\n",
      "Çargâh: 2\n",
      "Aşîrân-Mâye: 1\n",
      "Pençgâh-ı-Zâid: 2\n",
      "Mürekkep-Isfahan: 1\n",
      "Zevk-i-Dil: 1\n",
      "Aşîrân Zemzeme: 1\n",
      "Nevâkürdî: 1\n",
      "Vech-i-Şehnâz: 1\n",
      "Zevk-i-Tarab: 1\n",
      "Isfahânek: 1\n",
      "Şerefnümâ: 1\n",
      "Revnâknümâ: 1\n",
      "Ruhnüvaz: 2\n",
      "Sultânîsegâh: 1\n",
      "Güldeste: 1\n",
      "Sabâaşîrân: 1\n",
      "Râhatfezâ: 1\n",
      "Rûy-i-Dilârâ: 1\n",
      "Muhâlif: 1\n"
     ]
    }
   ],
   "source": [
    "print('Number of scores for each makam:')\n",
    "for makam,dct in dataset.items():\n",
    "    print(f'{makam}: {len(dct)}')"
   ]
  },
  {
   "cell_type": "code",
   "execution_count": 10,
   "metadata": {},
   "outputs": [
    {
     "name": "stdout",
     "output_type": "stream",
     "text": [
      "Uşşak: 118\n",
      "Nihâvent: 130\n",
      "Kürdîlihicazkâr: 70\n",
      "Sabâ: 66\n",
      "Rast: 109\n",
      "Mâhur: 88\n",
      "Segâh: 92\n",
      "Hicaz: 157\n",
      "Hüseynî: 92\n",
      "Bûselik: 57\n",
      "Muhayyer: 67\n",
      "Hüzzam: 96\n",
      "Hicazkâr: 79\n",
      "Beyâtî: 62\n",
      "Karcığar: 53\n",
      "Acemaşîrân: 63\n",
      "Number of makamlar: 16\n",
      "Valid score count: 1399\n"
     ]
    }
   ],
   "source": [
    "# Remove makamlar without enough scores\n",
    "THRESHOLD=50\n",
    "subset={k:v for k,v in dataset.items() if len(v)>=THRESHOLD}\n",
    "count=0\n",
    "for makam, dct in subset.items():\n",
    "    print(f'{makam}: {len(dct)}')\n",
    "    count += len(dct)\n",
    "print(\"Number of makamlar:\", len(subset))\n",
    "print(\"Valid score count:\", count)"
   ]
  },
  {
   "cell_type": "code",
   "execution_count": 11,
   "metadata": {},
   "outputs": [
    {
     "data": {
      "text/plain": [
       "{'composition': 'Humârı Yok Bozulmaz',\n",
       " 'composer': 'Hacı Ârif Bey',\n",
       " 'form': 'Şarkı',\n",
       " 'usul': 'Aksak',\n",
       " 'time_signatures': [(9, 8)],\n",
       " 'bpm': 77.0,\n",
       " 'divs': 96.0,\n",
       " 'key_sigsnature_accidentals': ['B quarter-flat', 'F sharp'],\n",
       " 'notes': array([['0', '0', '48', ..., 'G', '5', 'natural'],\n",
       "        ['0', '1', '96', ..., 'G', '5', 'natural'],\n",
       "        ['0', '2', '48', ..., 'A', '5', 'natural'],\n",
       "        ...,\n",
       "        ['40', '9', '144', ..., 'A', '4', 'natural'],\n",
       "        ['41', '0', '48', ..., 'G', '4', 'natural'],\n",
       "        ['41', '1', '96', ..., 'A', '4', 'natural']], dtype='<U21')}"
      ]
     },
     "execution_count": 11,
     "metadata": {},
     "output_type": "execute_result"
    }
   ],
   "source": [
    "single_makam=subset['Muhayyer']\n",
    "composition=single_makam[0]\n",
    "composition"
   ]
  },
  {
   "cell_type": "code",
   "execution_count": 12,
   "metadata": {
    "collapsed": true,
    "jupyter": {
     "outputs_hidden": true
    }
   },
   "outputs": [
    {
     "data": {
      "text/plain": [
       "{'-1': {'Rest '},\n",
       " '243': {'G3 natural'},\n",
       " '251': {'B3 flat'},\n",
       " '252': {'A3 natural'},\n",
       " '255': {'B3 quarter-flat'},\n",
       " '256': {'B3 natural'},\n",
       " '265': {'C4 natural'},\n",
       " '269': {'C4 sharp'},\n",
       " '274': {'D4 natural'},\n",
       " '278': {'D4 sharp', 'E4 flat'},\n",
       " '279': {'E4 slash-flat'},\n",
       " '282': {'E4 quarter-flat'},\n",
       " '283': {'E4 natural'},\n",
       " '287': {'E4 sharp', 'F4 natural'},\n",
       " '288': {'E4 slash-quarter-sharp', 'F4 quarter-sharp'},\n",
       " '291': {'F4 sharp'},\n",
       " '292': {'F4 slash-quarter-sharp', 'G4 slash-flat'},\n",
       " '295': {'G4 quarter-flat'},\n",
       " '296': {'G4 natural'},\n",
       " '300': {'A4 flat', 'G4 sharp'},\n",
       " '301': {'A4 slash-flat', 'G4 slash-quarter-sharp'},\n",
       " '304': {'A4 quarter-flat', 'B4 flat'},\n",
       " '305': {'A4 natural', 'B4 slash-flat'},\n",
       " '308': {'B4 quarter-flat'},\n",
       " '309': {'A4 sharp', 'B4 natural'},\n",
       " '313': {'A4 slash-sharp', 'B4 sharp'},\n",
       " '314': {'C5 slash-flat'},\n",
       " '317': {'C5 quarter-flat'},\n",
       " '318': {'C5 natural'},\n",
       " '322': {'C5 sharp', 'D5 flat'},\n",
       " '323': {'C5 slash-quarter-sharp', 'D5 slash-flat'},\n",
       " '326': {'C5 slash-sharp', 'D5 quarter-flat'},\n",
       " '327': {'D5 natural'},\n",
       " '331': {'D5 sharp', 'E5 flat'},\n",
       " '332': {'D5 slash-quarter-sharp', 'E5 slash-flat'},\n",
       " '335': {'E5 quarter-flat'},\n",
       " '336': {'E5 natural'},\n",
       " '340': {'E5 sharp', 'F5 natural'},\n",
       " '341': {'F5 quarter-sharp'},\n",
       " '344': {'F5 sharp', 'G5 flat'},\n",
       " '345': {'F5 slash-quarter-sharp', 'G5 slash-flat'},\n",
       " '348': {'G5 quarter-flat'},\n",
       " '349': {'G5 natural'},\n",
       " '353': {'A5 flat', 'G5 sharp'},\n",
       " '354': {'A5 slash-flat', 'G5 slash-quarter-sharp'},\n",
       " '357': {'A5 quarter-flat', 'B5 flat'},\n",
       " '358': {'A5 natural', 'B5 slash-flat'},\n",
       " '361': {'B5 quarter-flat'},\n",
       " '362': {'A5 sharp', 'B5 natural'},\n",
       " '363': {'A5 slash-quarter-sharp'},\n",
       " '367': {'C6 slash-flat'},\n",
       " '371': {'C6 natural'},\n",
       " '375': {'C6 sharp', 'D6 flat'},\n",
       " '376': {'C6 slash-quarter-sharp', 'D6 slash-flat'},\n",
       " '379': {'D6 quarter-flat'},\n",
       " '380': {'D6 natural'},\n",
       " '384': {'D6 sharp', 'E6 flat'},\n",
       " '385': {'E6 slash-flat'},\n",
       " '388': {'E6 quarter-flat'},\n",
       " '389': {'E6 natural'},\n",
       " '393': {'F6 natural'},\n",
       " '397': {'F6 sharp'},\n",
       " '402': {'G6 natural'},\n",
       " '415': {'B6 natural'},\n",
       " '424': {'C7 natural'}}"
      ]
     },
     "execution_count": 12,
     "metadata": {},
     "output_type": "execute_result"
    }
   ],
   "source": [
    "# Find all the note numbers and obsere if a number corresponds to multiple names\n",
    "# Due to the problems in the theory, we expect not seeing a 1-1 correspondance\n",
    "check=defaultdict(set)\n",
    "for makam_dict in dataset.values():\n",
    "    for composition in makam_dict:\n",
    "        for row in zip(composition['notes'][:,-4:]):\n",
    "            n,p,o,a=row[0]\n",
    "            check[n].add(f'{p}{o} {a}')\n",
    "check = {k: check[k] for k in sorted(check)}\n",
    "check"
   ]
  },
  {
   "cell_type": "code",
   "execution_count": 13,
   "metadata": {},
   "outputs": [
    {
     "name": "stdout",
     "output_type": "stream",
     "text": [
      "Measure: 0\n",
      "['349' '340' '340' '336' '340' '349' '358' '349' '361' '358' '349' '340'\n",
      " '349' '340' '349' '358' '349' '340' '336' '349' '340' '336' '327' '318'\n",
      " '-1' '361' '358' '349' '340' '349' '358' '361' '358' '349' '349' '340'\n",
      " '336' '340' '349' '340' '336' '349' '-1' '349' '340' '349' '327' '331'\n",
      " '340' '331' '327' '318' '331' '327' '327' '318' '318' '308' '318' '-1']\n",
      "\n",
      "Measure: 1\n",
      "['349' '340' '340' '335' '327' '340' '331' '331' '327' '318' '331' '327'\n",
      " '327' '318' '308' '318' '327' '331' '327' '318' '308' '305' '296' '305'\n",
      " '308' '318' '327' '331' '327' '318' '318' '-1' '335' '340' '349' '358'\n",
      " '361' '358' '349' '340' '380' '371' '361' '358' '349' '358' '361' '358'\n",
      " '349' '340' '349' '340' '349']\n",
      "\n",
      "Measure: 2\n",
      "['-1' '340' '349' '340' '361' '361' '358' '361' '358' '349' '340' '349'\n",
      " '340' '-1' '349' '358' '361' '358' '349' '340' '349' '358' '349' '371'\n",
      " '361' '358' '361' '358' '349' '340' '349' '340' '349' '-1']\n",
      "\n",
      "Measure: 3\n",
      "['349' '340' '349' '340' '349' '358' '349' '358' '361' '358' '349' '340'\n",
      " '349' '358' '349' '340' '335' '340' '349' '335' '349' '340' '335' '327'\n",
      " '335' '318' '327' '340' '331' '327' '327' '318' '318' '308' '318' '331'\n",
      " '327' '318' '308' '305' '296' '305' '308' '318' '305' '318' '308' '305'\n",
      " '296' '305' '287' '-1' '318' '308' '305' '305' '308' '305' '296' '287'\n",
      " '296' '287' '308' '305' '296' '296' '-1']\n",
      "\n"
     ]
    }
   ],
   "source": [
    "# Get the notes of each measure, disregard note lengths\n",
    "measure_changes = get_measure_change_indices(composition)\n",
    "for i in range(len(measure_changes[:-1])):\n",
    "    measure_notes = composition['notes'][measure_changes[i]:measure_changes[i+1],3]\n",
    "    print(f'Measure: {i}')\n",
    "    print(measure_notes)\n",
    "    print()"
   ]
  },
  {
   "cell_type": "markdown",
   "metadata": {},
   "source": [
    "# -> Score statistics"
   ]
  },
  {
   "cell_type": "markdown",
   "metadata": {},
   "source": [
    "### --> Note histogram"
   ]
  },
  {
   "cell_type": "code",
   "execution_count": 88,
   "metadata": {},
   "outputs": [],
   "source": [
    "# store aggregate histograms for pieces belonging to makam\n",
    "# note_histograms[makam_name] = 1x53 np.array\n",
    "note_histograms = {}\n",
    "note_idx = np.asarray(range(0, 53))\n",
    "\n",
    "for makam, pieces in subset.items():\n",
    "    note_histograms[makam] = np.zeros(53, dtype=np.int64)\n",
    "    for piece in pieces:\n",
    "        # extract column of index 3 (note value)\n",
    "        notes = piece['notes'][:, 3].astype(np.int64)\n",
    "        # remove rests\n",
    "        notes = notes[notes != -1]\n",
    "        # octave fold\n",
    "        for i in range(notes.shape[0]):\n",
    "            notes[i] = notes[i] % 53       \n",
    "        # extract and add histogram\n",
    "        note_histograms[makam] += np.histogram(notes, \n",
    "                                               bins=53,\n",
    "                                               density=False)[0]"
   ]
  },
  {
   "cell_type": "code",
   "execution_count": 93,
   "metadata": {},
   "outputs": [
    {
     "data": {
      "image/png": "[encoded data removed]",
      "text/plain": [
       "<Figure size 1440x720 with 1 Axes>"
      ]
     },
     "metadata": {
      "needs_background": "light"
     },
     "output_type": "display_data"
    }
   ],
   "source": [
    "fig_rast = plt.figure(figsize=(20, 10))\n",
    "bar_rast = plt.bar(x=note_idx, height=note_histograms['Rast'])\n",
    "ticks_rast = plt.xticks(note_idx)"
   ]
  },
  {
   "cell_type": "code",
   "execution_count": 112,
   "metadata": {},
   "outputs": [
    {
     "data": {
      "image/png": "[encoded data removed]",
      "text/plain": [
       "<Figure size 1440x1080 with 16 Axes>"
      ]
     },
     "metadata": {
      "needs_background": "light"
     },
     "output_type": "display_data"
    }
   ],
   "source": [
    "makamlar_names = list(subset.keys())\n",
    "fig, axs = plt.subplots(4, 4, figsize = (20, 15))\n",
    "for i in range(4):\n",
    "    for j in range(4):\n",
    "        makam_name = makamlar_names[(i*4)+j]\n",
    "        axs[i][j].bar(x=note_idx, height=note_histograms[makam_name])\n",
    "        axs[i][j].set_title(makam_name)"
   ]
  },
  {
   "cell_type": "code",
   "execution_count": 115,
   "metadata": {},
   "outputs": [
    {
     "data": {
      "image/png": "[encoded data removed]",
      "text/plain": [
       "<Figure size 1440x1080 with 16 Axes>"
      ]
     },
     "metadata": {
      "needs_background": "light"
     },
     "output_type": "display_data"
    }
   ],
   "source": [
    "# wouldn't it be interesting to compare the presence of the theoretical tonic?\n",
    "makamlar_names = list(subset.keys())\n",
    "fig, axs = plt.subplots(4, 4, figsize = (20, 15))\n",
    "for i in range(4):\n",
    "    for j in range(4):\n",
    "        makam_name = makamlar_names[(i*4)+j]\n",
    "\n",
    "        # get maximum height from histogram\n",
    "        max_height = np.amax(note_histograms[makam_name])\n",
    "\n",
    "        # create array of zeros, with max_height at the tonic\n",
    "        tonic_array = np.zeros(53)\n",
    "        tonic_array[TONICS[makam_name]] = max_height\n",
    "\n",
    "        # plot note histogram\n",
    "        axs[i][j].bar(x=note_idx, height=note_histograms[makam_name], color='grey', alpha=1)\n",
    "        axs[i][j].set_title(makam_name)\n",
    "\n",
    "        # plot tonic\n",
    "        axs[i][j].bar(x=note_idx, height=tonic_array, color='orange', alpha=0.2)\n"
   ]
  }
 ],
 "metadata": {
  "kernelspec": {
   "display_name": "Python 3",
   "language": "python",
   "name": "python3"
  },
  "language_info": {
   "codemirror_mode": {
    "name": "ipython",
    "version": 3
   },
   "file_extension": ".py",
   "mimetype": "text/x-python",
   "name": "python",
   "nbconvert_exporter": "python",
   "pygments_lexer": "ipython3",
   "version": "3.9.7"
  }
 },
 "nbformat": 4,
 "nbformat_minor": 4
}
