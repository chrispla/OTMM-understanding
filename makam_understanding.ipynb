{
 "cells": [
  {
   "cell_type": "markdown",
   "metadata": {},
   "source": [
    "## Computational approaches to Ottoman-Turkish makam understanding\n",
    "#### Audio and Music Processing Lab - Module 2 - (Ethno)musicology and music score research\n",
    "Recep Oguz Araz, Christos Plachouras"
   ]
  },
  {
   "cell_type": "code",
   "execution_count": null,
   "metadata": {},
   "outputs": [],
   "source": []
  }
 ],
 "metadata": {
  "language_info": {
   "name": "python"
  },
  "orig_nbformat": 4
 },
 "nbformat": 4,
 "nbformat_minor": 2
}
